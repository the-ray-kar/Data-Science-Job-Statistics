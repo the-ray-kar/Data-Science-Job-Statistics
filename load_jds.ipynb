{
 "cells": [
  {
   "cell_type": "code",
   "execution_count": 1,
   "metadata": {},
   "outputs": [],
   "source": [
    "import pickle\n",
    "import os\n",
    "if os.path.exists(\"text_list.pkl\"):\n",
    "    with open(\"text_list.pkl\", \"rb\") as f:\n",
    "            text_list = pickle.load(f)"
   ]
  },
  {
   "cell_type": "code",
   "execution_count": 2,
   "metadata": {},
   "outputs": [
    {
     "data": {
      "text/plain": [
       "'Knowledge / Experience\\n\\n    Proven working experience in data analysis and ML modeling\\n    Deep understanding of machine learning and deep learning\\n    Ability to formulate business problems as machine learning problems\\n    Model Evaluation\\n    Model interpretability / explainability\\n    Proficiency in Computer vision, Natural Language Processing, anomaly detection area\\n    A deep understanding of GenAI and its applications in the industry\\n    Excellent communication skills\\n        Communicates ideas both verbally and in written form in a clear, concise, and professional manner\\n        Bridge the gap between business and tech teams\\n    Ability to analyze and solve problems in most optimal ways\\n    Knowledge of the financial services marketplace is an added advantage\\n\\nSkills\\n\\n    Proficiency in Python\\n        Good-to-have~ Experience in additional programming languages (Good to have Java or C# or both)\\n    Hands on with frameworks and libraries like scikit-learn, TensorFlow, PyTorch, Keras, pandas etc\\n    Rest services using Flask or FastAPI\\n    SQLAlchemy, Pydantic data modelling\\n    Experience with cloud platforms (e.g., AWS, GCP, Azure) and AI Studios\\n    Hands-on experience in solving practical problems using GenAI\\n    Hands-on experience with leveraging LLMs for practical solutions\\n    Team skills, including the ability to establish and maintain effective working relationships both internally as well as externally\\n    Experience of working with at least one relational database\\n    Should have experience in application development and using IDEs, etc\\n    Innovative thinking\\n'"
      ]
     },
     "execution_count": 2,
     "metadata": {},
     "output_type": "execute_result"
    }
   ],
   "source": [
    "text_list[0]"
   ]
  },
  {
   "cell_type": "code",
   "execution_count": 3,
   "metadata": {},
   "outputs": [
    {
     "data": {
      "text/plain": [
       "167"
      ]
     },
     "execution_count": 3,
     "metadata": {},
     "output_type": "execute_result"
    }
   ],
   "source": [
    "len(text_list)"
   ]
  },
  {
   "cell_type": "code",
   "execution_count": null,
   "metadata": {},
   "outputs": [],
   "source": [
    "'''\n",
    "GPU frameworks: CUDA, OPENGL\n",
    "\n",
    "Coding : Python, R, SQL, C, C, Java, Java Script, Matlab, Simulink, Pyspark, Cipher\n",
    "GenAI: Pydantic, AutoGen, LangChain, LangGraph, SmolAgents, Ollama\n",
    "\n",
    "Databases: PostGres, MySQL, RDBMS, MSSQL, MongoDB, ChromaDB, FaiSS, Neo4j, HIVE\n",
    "\n",
    "Orchestration= Kubernetes, Docker, MLFlow\n",
    "\n",
    "APIs: REST API, FAST API\n",
    "\n",
    "Big Data: Hadoop, Spark\n",
    "\n",
    "Cloud: AWS, AWS Sagemaker, Azure Databricks, Google cloud platform, Azure\n",
    "\n",
    "Libraries: Sklearn, SciPy, Streamlit, Spacy, Nltk, Pytorch, Pandas, Keras, Tensorflow, Numpy, SciML, AutoML, hugging face, OpenCV\n",
    "\n",
    "Visualization: Matplotlib, Seaborn, PowerBI, Tableau, Plotly, Looker\n",
    "\n",
    "CI/CD = Airflow, Jenkins, Power Automate\n",
    "\n",
    "model save: ONXX, pth\n",
    "\n",
    "Qualifications: Btech, BS, MS, Mtech, PhD\n",
    "\n",
    "\n",
    "ML Techniques: Regression, Classification, Forecasting, Reinforcement Learning, Computer Vision, Natural Language Processing (NLP),\n",
    "\t\tGenerative AI, Clustering, Named Entity Recognition, A/B Testing, Prompt Engineering, LORA, PEFT, RAG, Quantization, DSA, hypothesis testing,\n",
    "        ANNOVA, t-test, Chi-Square test, PCA, t-SNE, UMAP, POS Tagging, Deep Learning, CNNs, Vision Transformers, LLMs, Bayesian Models,\n",
    "        SAC, PPO\n",
    "\n",
    "\n",
    "\n",
    "Models: Linear Regression, SVM, SVC, Logistic Regression, Decision Trees, Random Forest, XGBoost, AdaBoost, LightGBM,\n",
    "\tCatBoost, LSTM, Transformers, BERT, SBERT, LLama, KNN, KMeans, DBScan, Variational AutoEncoders, AutoEncoders, Yolo, Stable Diffusin,\n",
    "    ResNet, Inception Network, BM25, Gemma\n",
    "Tasks: Analyze Datasets, Build Models, Build Data Pipeline, Deploy Models, Fine Tune Models, Maintain Models, Research Models, Quantization\n",
    "\n",
    "'''"
   ]
  }
 ],
 "metadata": {
  "kernelspec": {
   "display_name": "Python 3",
   "language": "python",
   "name": "python3"
  },
  "language_info": {
   "codemirror_mode": {
    "name": "ipython",
    "version": 3
   },
   "file_extension": ".py",
   "mimetype": "text/x-python",
   "name": "python",
   "nbconvert_exporter": "python",
   "pygments_lexer": "ipython3",
   "version": "3.10.0"
  }
 },
 "nbformat": 4,
 "nbformat_minor": 2
}
